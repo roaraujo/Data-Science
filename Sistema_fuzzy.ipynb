{
 "cells": [
  {
   "attachments": {},
   "cell_type": "markdown",
   "metadata": {},
   "source": [
    "# Lógica Fuzzy"
   ]
  },
  {
   "cell_type": "code",
   "execution_count": 1,
   "metadata": {},
   "outputs": [],
   "source": [
    "import numpy as np\n",
    "import skfuzzy as fuzz\n",
    "from skfuzzy import control as ctrl"
   ]
  },
  {
   "attachments": {},
   "cell_type": "markdown",
   "metadata": {},
   "source": [
    "### Definindo os espaços dos universos dos antecedentes e consequente."
   ]
  },
  {
   "cell_type": "code",
   "execution_count": 2,
   "metadata": {},
   "outputs": [],
   "source": [
    "# antecedentes, que serão as predições indicando o grau de pertencimento de um elemento ao um determinado conjunto.\n",
    "cv_precision = ctrl.Antecedent(np.arange(0, 1, .01), 'cv_precision')\n",
    "cv_recall = ctrl.Antecedent(np.arange(0, 1, .01), 'cv_recall')\n",
    "cv_badrate = ctrl.Antecedent(np.arange(0, 1, .01), 'cv_badrate')\n",
    "\n",
    "# consequente, que será a avaliação do sistema fuzzy\n",
    "cv = ctrl.Consequent(np.arange(0, 1.1, .01), 'cv')"
   ]
  },
  {
   "attachments": {},
   "cell_type": "markdown",
   "metadata": {},
   "source": [
    "### Definindo as funções de pertinência"
   ]
  },
  {
   "cell_type": "code",
   "execution_count": 3,
   "metadata": {},
   "outputs": [],
   "source": [
    "# cv_precision['baixa'] = fuzz.trimf(cv_precision.universe, [0, 0.05, 0.1])\n",
    "# cv_precision['media'] = fuzz.trimf(cv_precision.universe, [0.07,0.10,0.15])\n",
    "# cv_precision['alta'] = fuzz.trimf(cv_precision.universe, [0.15,0.2,1])\n",
    "\n",
    "# cv_recall['baixa'] = fuzz.trimf(cv_recall.universe, [0, 0.05, 0.07])\n",
    "# cv_recall['media'] = fuzz.trimf(cv_recall.universe, [0.07,0.10,0.15])\n",
    "# cv_recall['alta'] = fuzz.trimf(cv_recall.universe, [0.15,0.2,1])\n",
    "\n",
    "# cv_badrate['baixa'] = fuzz.trimf(cv_badrate.universe, [0, 0.05, 0.07])\n",
    "# cv_badrate['media'] = fuzz.trimf(cv_badrate.universe, [0.07,0.10,0.15])\n",
    "# cv_badrate['alta'] = fuzz.trimf(cv_badrate.universe, [0.15,0.2,1])\n",
    "\n",
    "\n",
    "# cv['baixa'] = fuzz.trimf(cv.universe, [0, 0.05, 0.07])\n",
    "# cv['media'] = fuzz.trimf(cv.universe, [0.07,0.10,0.15])\n",
    "# cv['alta'] = fuzz.trimf(cv.universe, [0.15,0.2,1])\n",
    "\n",
    "\n",
    "\n",
    "# cv_precision['baixa'] = fuzz.gaussmf(cv_precision.universe, 0.05, 0.02)\n",
    "# cv_precision['media'] = fuzz.gaussmf(cv_precision.universe, 0.11, 0.04)\n",
    "# cv_precision['alta'] = fuzz.trimf(cv_precision.universe, [0.15,0.2,1])\n",
    "\n",
    "\n",
    "cv_precision['baixa'] = fuzz.trapmf(cv_precision.universe, [0., 0.01, 0.07, 0.08])#fuzz.sigmf(cv_precision.universe,  0.5, 0.02)\n",
    "cv_precision['media'] = fuzz.trapmf(cv_precision.universe, [0.07, 0.08, 0.15, 0.16])#fuzz.gaussmf(cv_precision.universe,  0.11, 0.04)\n",
    "cv_precision['alta'] = fuzz.trapmf(cv_precision.universe, [0.15, 0.16, 0.2, 100]) \n",
    "\n",
    "# cv_recall['baixa'] = fuzz.gaussmf(cv_recall.universe, 0.05, 0.02)\n",
    "# cv_recall['media'] = fuzz.gaussmf(cv_recall.universe, 0.11, 0.04)\n",
    "# cv_recall['alta'] = fuzz.trimf(cv_recall.universe, [0.15,0.2,1])\n",
    "\n",
    "cv_recall['baixa'] = fuzz.trapmf(cv_recall.universe, [0., 0.01, 0.07, 0.08])#fuzz.sigmf(cv_recall.universe,  0.5, 0.02)\n",
    "cv_recall['media'] = fuzz.trapmf(cv_recall.universe, [0.07, 0.08, 0.15, 0.16])#fuzz.gaussmf(cv_recall.universe,  0.11, 0.04)\n",
    "cv_recall['alta'] = fuzz.trapmf(cv_recall.universe, [0.15, 0.16, 0.2, 100]) \n",
    "\n",
    "\n",
    "\n",
    "# cv_badrate['baixa'] = fuzz.gaussmf(cv_badrate.universe,  0.05, 0.02)\n",
    "# cv_badrate['media'] = fuzz.gaussmf(cv_badrate.universe, 0.11, 0.04)\n",
    "# cv_badrate['alta'] = fuzz.trimf(cv_badrate.universe, [0.15,0.2,1])\n",
    "\n",
    "\n",
    "\n",
    "cv_badrate['baixa'] = fuzz.trapmf(cv_badrate.universe, [0., 0.01, 0.07, 0.08])#fuzz.sigmf(cv_badrate.universe,  0.5, 0.02)\n",
    "cv_badrate['media'] = fuzz.trapmf(cv_badrate.universe, [0.07, 0.08, 0.15, 0.16])#fuzz.gaussmf(cv_badrate.universe,  0.11, 0.04)\n",
    "cv_badrate['alta'] = fuzz.trapmf(cv_badrate.universe, [0.15, 0.16, 0.2, 100]) \n",
    "\n",
    "\n",
    "\n",
    "# resultado da variação\n",
    "cv['baixa'] = fuzz.trapmf(cv.universe, [0., 0.01, 0.07, 0.08])#fuzz.sigmf(cv.universe,  0.5, 0.02)\n",
    "cv['media'] = fuzz.trapmf(cv.universe, [0.07, 0.08, 0.15, 0.16])#fuzz.gaussmf(cv.universe,  0.11, 0.04)\n",
    "cv['alta'] = fuzz.trapmf(cv.universe, [0.15, 0.16, 0.2, 100]) "
   ]
  },
  {
   "attachments": {},
   "cell_type": "markdown",
   "metadata": {},
   "source": [
    "### Visualização das funções de pertinência "
   ]
  },
  {
   "cell_type": "code",
   "execution_count": 4,
   "metadata": {},
   "outputs": [
    {
     "name": "stderr",
     "output_type": "stream",
     "text": [
      "c:\\Anaconda\\envs\\artigo\\lib\\site-packages\\skfuzzy\\control\\fuzzyvariable.py:122: UserWarning: Matplotlib is currently using module://matplotlib_inline.backend_inline, which is a non-GUI backend, so cannot show the figure.\n",
      "  fig.show()\n"
     ]
    },
    {
     "data": {
      "image/png": "[encoded data removed]",
      "text/plain": [
       "<Figure size 432x288 with 1 Axes>"
      ]
     },
     "metadata": {
      "needs_background": "light"
     },
     "output_type": "display_data"
    },
    {
     "data": {
      "image/png": "[encoded data removed]",
      "text/plain": [
       "<Figure size 432x288 with 1 Axes>"
      ]
     },
     "metadata": {
      "needs_background": "light"
     },
     "output_type": "display_data"
    }
   ],
   "source": [
    "cv_precision.view()\n",
    "\n",
    "cv.view()"
   ]
  },
  {
   "attachments": {},
   "cell_type": "markdown",
   "metadata": {},
   "source": [
    "### Definindo regras do sistema "
   ]
  },
  {
   "cell_type": "code",
   "execution_count": 8,
   "metadata": {},
   "outputs": [],
   "source": [
    "\n",
    "# regra 1 \n",
    "regra1 = ctrl.Rule(cv_badrate['alta'], cv['alta'])\n",
    "\n",
    "# regra 2\n",
    "regra2 = ctrl.Rule(cv_badrate['media'] | cv_precision['media'], cv['media'])\n",
    "\n",
    "# regra 3 \n",
    "regra3 = ctrl.Rule(cv_badrate['baixa'] & cv_precision['media'], cv['media'])\n",
    "\n",
    "# regra 4 \n",
    "regra4 = ctrl.Rule(cv_badrate['media'] | cv_precision['alta'], cv['alta'])\n",
    "\n",
    "# regra 5 \n",
    "regra5 = ctrl.Rule(cv_badrate['baixa'] & cv_precision['baixa'] & cv_recall['baixa'], cv['baixa'])\n",
    "\n",
    "# regra 6\n",
    "regra6 = ctrl.Rule(cv_badrate['media'] & (cv_precision['alta'] |cv_recall['alta']) , cv['alta'])\n",
    "\n",
    "rule_ctrl = ctrl.ControlSystem([regra1, regra2, regra3, regra4, regra5, regra6])\n",
    "engine = ctrl.ControlSystemSimulation(rule_ctrl)"
   ]
  },
  {
   "attachments": {},
   "cell_type": "markdown",
   "metadata": {},
   "source": [
    "### Cáculo da saída do sistema de controle fuzzy"
   ]
  },
  {
   "cell_type": "code",
   "execution_count": 13,
   "metadata": {},
   "outputs": [],
   "source": [
    "\n",
    "# passa as predições dos modelos para suas respectivas variáveis de entrada\n",
    "engine.input['cv_precision'] = 0.18\n",
    "engine.input['cv_recall'] = 0.15\n",
    "engine.input['cv_badrate'] = 0.05\n",
    "\n",
    "# calcula a saída do sistema de controle fuzzy\n",
    "engine.compute()"
   ]
  },
  {
   "cell_type": "code",
   "execution_count": 14,
   "metadata": {},
   "outputs": [
    {
     "name": "stdout",
     "output_type": "stream",
     "text": [
      "0.6217673632205964\n"
     ]
    },
    {
     "data": {
      "image/png": "[encoded data removed]",
      "text/plain": [
       "<Figure size 432x288 with 1 Axes>"
      ]
     },
     "metadata": {
      "needs_background": "light"
     },
     "output_type": "display_data"
    }
   ],
   "source": [
    "print(engine.output['cv'])\n",
    "cv.view(sim=engine)"
   ]
  },
  {
   "cell_type": "code",
   "execution_count": null,
   "metadata": {},
   "outputs": [],
   "source": []
  }
 ],
 "metadata": {
  "kernelspec": {
   "display_name": "Python 3.9.12 64-bit ('artigo')",
   "language": "python",
   "name": "python3"
  },
  "language_info": {
   "codemirror_mode": {
    "name": "ipython",
    "version": 3
   },
   "file_extension": ".py",
   "mimetype": "text/x-python",
   "name": "python",
   "nbconvert_exporter": "python",
   "pygments_lexer": "ipython3",
   "version": "3.9.12"
  },
  "vscode": {
   "interpreter": {
    "hash": "77b285dce526106f0619df26edb004dd0a55300a7a7a7660bd0bf561a0915729"
   }
  }
 },
 "nbformat": 4,
 "nbformat_minor": 2
}
